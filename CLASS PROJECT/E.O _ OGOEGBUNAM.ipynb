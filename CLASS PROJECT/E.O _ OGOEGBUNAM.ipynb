{
 "cells": [
  {
   "cell_type": "markdown",
   "metadata": {},
   "source": [
    "### CHUKWUEBUKA OGOEGBUNAM DAVID\n",
    "### 21120612481"
   ]
  },
  {
   "cell_type": "markdown",
   "metadata": {},
   "source": [
    "## Number 1"
   ]
  },
  {
   "cell_type": "markdown",
   "metadata": {},
   "source": [
    "## PSEUDOCODE"
   ]
  },
  {
   "cell_type": "markdown",
   "metadata": {},
   "source": [
    "## INPUT costumer name\n",
    "## PRINT costumer name\n",
    "## INPUT menu of costumer\n",
    "## PRINT menu of customer\n",
    "## INPUT quantity of order\n",
    "## PRINT quantity of order\n",
    "## INPUT total charge of order\n",
    "## PRINT total charge of order\n",
    "## IF total charge of order < 10000\n",
    "## PRINT  total charge of order - 10% of total charge of order\n",
    "## IF total charge of order is > 10000 < 15000\n",
    "## PRINT total charge of order - 15% of total charge of order\n",
    "## IF total charge of order is > 15000\n",
    "## PRINT total charge of order - 25% of total charge of order"
   ]
  },
  {
   "cell_type": "code",
   "execution_count": 17,
   "metadata": {},
   "outputs": [
    {
     "name": "stdout",
     "output_type": "stream",
     "text": [
      "               Unnamed: 0 PAU CAFETERIA Unnamed: 2\n",
      "0                    menu           NaN   Price(₦)\n",
      "1  Poundo Yam & Edinkaiko           NaN       5500\n",
      "2    Fried Rice $ Chicken     & Chicken       6000\n",
      "3      Amala & Ewedu Soup           NaN       4500\n",
      "4        Eba & Egusi Soup           NaN       4000\n",
      "5       White rice & stew           NaN       4500\n"
     ]
    }
   ],
   "source": [
    "import pandas as pd\n",
    "\n",
    "xx = pd.read_excel(r\"Food menu.xlsx\")\n",
    "print (xx)"
   ]
  },
  {
   "cell_type": "code",
   "execution_count": 54,
   "metadata": {},
   "outputs": [
    {
     "ename": "SyntaxError",
     "evalue": "invalid syntax (<ipython-input-54-4827900f02b3>, line 1)",
     "output_type": "error",
     "traceback": [
      "\u001b[1;36m  File \u001b[1;32m\"<ipython-input-54-4827900f02b3>\"\u001b[1;36m, line \u001b[1;32m1\u001b[0m\n\u001b[1;33m    XX = list[\"Poundo_yam\" = 5500 ,\"Fried_rice_and_chicken\" = 6000, \"Amala_and_ewedu_soup\" = 4500 ,\"Eba_and_Egusi_soup\" = 4000 ,\"White_rice_and_stew\" = 4500,]\u001b[0m\n\u001b[1;37m                           ^\u001b[0m\n\u001b[1;31mSyntaxError\u001b[0m\u001b[1;31m:\u001b[0m invalid syntax\n"
     ]
    }
   ],
   "source": [
    "XX = list[\"Poundo_yam\" = 5500 ,\"Fried_rice_and_chicken\" = 6000, \"Amala_and_ewedu_soup\" = 4500 ,\"Eba_and_Egusi_soup\" = 4000 ,\"White_rice_and_stew\" = 4500,]\n",
    "Customer_name = input(str(\" What is your name ?                                   \"))\n",
    "Customer_order = input(str(\"What are you ordering                                 \"))\n",
    "Quantity = input(str(\"How many?     \"))\n",
    "\n",
    "for b in Customer_order :\n",
    "    if (b in XX):\n",
    "        print(Customer_order)\n",
    "    \n"
   ]
  },
  {
   "cell_type": "code",
   "execution_count": 52,
   "metadata": {},
   "outputs": [
    {
     "name": "stdout",
     "output_type": "stream",
     "text": [
      "  Boston Consulting Group EMIS  Unnamed: 1 Unnamed: 2          Unnamed: 3\n",
      "0                Employee name         NaN      Years  Assessment Records\n",
      "1                  Alegbe Luis         NaN          5                44.5\n",
      "2                  Anna Mabuta         NaN         10                67.4\n",
      "3                   Karim Kafi         NaN         15                23.8\n",
      "4                 Esther Moses         NaN          8                71.1\n",
      "5                  Jonah Longe         NaN          4                50.3\n",
      "6                Coins Fagbemi         NaN         20                63.3\n"
     ]
    }
   ],
   "source": [
    "import pandas as pf\n",
    "xg = pf.read_excel(r\"Employee.xlsx\")\n",
    "print(xg)"
   ]
  },
  {
   "cell_type": "markdown",
   "metadata": {},
   "source": [
    "## PSEUDOCODE"
   ]
  },
  {
   "cell_type": "markdown",
   "metadata": {},
   "source": [
    "### INPUT assessment record\n",
    "### IF assessment record = X\n",
    "### IF X < 40\n",
    "### PRINT 1 point\n",
    "### IF 39< X < 50 \n",
    "### PRINT 2 point\n",
    "### IF 49 < X  < 60 \n",
    "### PRINT 3 POINT\n",
    "### IF 59< X <70\n",
    "### PRINT 4 point\n",
    "### IF X > 69\n",
    "### PRINT 5 point\n",
    "### Reward =total points divided by number of employees"
   ]
  },
  {
   "cell_type": "code",
   "execution_count": null,
   "metadata": {},
   "outputs": [],
   "source": []
  }
 ],
 "metadata": {
  "kernelspec": {
   "display_name": "Python 3",
   "language": "python",
   "name": "python3"
  },
  "language_info": {
   "codemirror_mode": {
    "name": "ipython",
    "version": 3
   },
   "file_extension": ".py",
   "mimetype": "text/x-python",
   "name": "python",
   "nbconvert_exporter": "python",
   "pygments_lexer": "ipython3",
   "version": "3.8.3"
  }
 },
 "nbformat": 4,
 "nbformat_minor": 4
}
