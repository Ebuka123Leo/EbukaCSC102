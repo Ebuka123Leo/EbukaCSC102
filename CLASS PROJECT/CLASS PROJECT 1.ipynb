{
 "cells": [
  {
   "cell_type": "markdown",
   "metadata": {},
   "source": [
    "## Class Project 1"
   ]
  },
  {
   "cell_type": "markdown",
   "metadata": {},
   "source": [
    "#### Pseudocode for project 1"
   ]
  },
  {
   "cell_type": "markdown",
   "metadata": {},
   "source": [
    "#### INPUT number"
   ]
  },
  {
   "cell_type": "markdown",
   "metadata": {},
   "source": [
    "##### Number = X"
   ]
  },
  {
   "cell_type": "markdown",
   "metadata": {},
   "source": [
    "#### X - 17 =  Result"
   ]
  },
  {
   "cell_type": "markdown",
   "metadata": {},
   "source": [
    "#### If x > 17"
   ]
  },
  {
   "cell_type": "markdown",
   "metadata": {},
   "source": [
    "#### Print 2 * Result"
   ]
  },
  {
   "cell_type": "markdown",
   "metadata": {},
   "source": [
    "#### Else\n"
   ]
  },
  {
   "cell_type": "markdown",
   "metadata": {},
   "source": [
    "#### Print absolute difference of result"
   ]
  },
  {
   "cell_type": "markdown",
   "metadata": {},
   "source": [
    "![CLASS PROJECT](images/Picture1.png)"
   ]
  },
  {
   "cell_type": "markdown",
   "metadata": {},
   "source": [
    "# CLASS PROJECT 1"
   ]
  },
  {
   "cell_type": "code",
   "execution_count": 23,
   "metadata": {},
   "outputs": [
    {
     "name": "stdout",
     "output_type": "stream",
     "text": [
      "Input a number  45\n",
      "-56\n"
     ]
    }
   ],
   "source": [
    "Number = int(input (\"Input a number  \"))\n",
    "if Number > 17:\n",
    "    print(2 * (17 - int(Number)))\n",
    "else:\n",
    "    print (abs(int(Number) - 17))"
   ]
  },
  {
   "cell_type": "markdown",
   "metadata": {},
   "source": [
    "# CLASS PROJECT 2"
   ]
  },
  {
   "cell_type": "markdown",
   "metadata": {},
   "source": [
    "X1 = int(input(\"Enter first Value  \"))\n",
    "X2 = int(input(\"Enter second value \"))\n",
    "X3 = int(input(\"Enter third value  \"))\n",
    "\n",
    "if X1 == X2 == X3:\n",
    "    print(3*(X1 + X2 + X3))\n",
    "else:\n",
    "    print(X1 + X2 + X3)"
   ]
  },
  {
   "cell_type": "markdown",
   "metadata": {},
   "source": [
    "## PSEUDOCODE"
   ]
  },
  {
   "cell_type": "markdown",
   "metadata": {},
   "source": [
    "#### INPUT X1\n",
    "#### INPUT X2\n",
    "#### INPUT X3\n",
    "#### IF  X1 = X2 = X3\n",
    "#### PRINT 3 x (X1 + X2 + X3)\n",
    "#### ELSE\n",
    "#### PRINT X1 + X2 + X3"
   ]
  },
  {
   "cell_type": "markdown",
   "metadata": {},
   "source": [
    "![CLASS PROJECT](images/Picture2.png)"
   ]
  },
  {
   "cell_type": "markdown",
   "metadata": {},
   "source": [
    "# CLASS PROJECT 3"
   ]
  },
  {
   "cell_type": "code",
   "execution_count": 14,
   "metadata": {},
   "outputs": [
    {
     "name": "stdout",
     "output_type": "stream",
     "text": [
      "Enter first value 3\n",
      "Enter second Value 8\n",
      "false\n"
     ]
    }
   ],
   "source": [
    "X1 = int(input(\"Enter first value \"))\n",
    "X2 = int(input(\"Enter second Value \"))\n",
    "\n",
    "if X1 == X2:\n",
    "    print(\"True\")\n",
    "elif X1 + X2 == 5 :\n",
    "    print(\"True\")\n",
    "elif X1 - X2 == 5 :\n",
    "    print(\"True\")\n",
    "else:\n",
    "    print(\"false\")"
   ]
  },
  {
   "cell_type": "markdown",
   "metadata": {},
   "source": [
    "# PSEUDOCODE"
   ]
  },
  {
   "cell_type": "markdown",
   "metadata": {},
   "source": [
    "#### INPUT X1\n",
    "#### INPUT X2\n",
    "#### IF X1 = X2\n",
    "#### PRINT \"TRUE\"\n",
    "#### IF X1 + X2 = 5\n",
    "#### PRINT \"TRUE\"\n",
    "#### IF X1 - X2 = 5 or X2 - X1 = 5\n",
    "#### PRINT \"TRUE\""
   ]
  },
  {
   "cell_type": "markdown",
   "metadata": {},
   "source": [
    "![CLASS PROJECT](images/Picture3.png)"
   ]
  },
  {
   "cell_type": "code",
   "execution_count": null,
   "metadata": {},
   "outputs": [],
   "source": []
  }
 ],
 "metadata": {
  "kernelspec": {
   "display_name": "Python 3",
   "language": "python",
   "name": "python3"
  },
  "language_info": {
   "codemirror_mode": {
    "name": "ipython",
    "version": 3
   },
   "file_extension": ".py",
   "mimetype": "text/x-python",
   "name": "python",
   "nbconvert_exporter": "python",
   "pygments_lexer": "ipython3",
   "version": "3.8.3"
  }
 },
 "nbformat": 4,
 "nbformat_minor": 4
}
